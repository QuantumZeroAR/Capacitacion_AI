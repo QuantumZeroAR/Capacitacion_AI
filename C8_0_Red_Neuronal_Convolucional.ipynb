{
  "cells": [
    {
      "cell_type": "markdown",
      "metadata": {
        "id": "view-in-github",
        "colab_type": "text"
      },
      "source": [
        "<a href=\"https://colab.research.google.com/github/QuantumZeroAR/Capacitacion_AI/blob/main/C8_0_Red_Neuronal_Convolucional.ipynb\" target=\"_parent\"><img src=\"https://colab.research.google.com/assets/colab-badge.svg\" alt=\"Open In Colab\"/></a>"
      ]
    },
    {
      "cell_type": "code",
      "execution_count": 1,
      "metadata": {
        "id": "50f-QGUYO0XA"
      },
      "outputs": [],
      "source": [
        "import tensorflow as tf\n",
        "import tensorflow_datasets as tfds"
      ]
    },
    {
      "cell_type": "code",
      "execution_count": null,
      "metadata": {
        "id": "ta-kALhJP1Pp"
      },
      "outputs": [],
      "source": [
        "datos, metadatos = tfds.load(\"mnist\", as_supervised=True, with_info=True)"
      ]
    },
    {
      "cell_type": "code",
      "execution_count": null,
      "metadata": {
        "id": "q-4QNLGpQHMt"
      },
      "outputs": [],
      "source": [
        "metadatos"
      ]
    },
    {
      "cell_type": "code",
      "execution_count": 4,
      "metadata": {
        "id": "HHwgBX_iQVbx"
      },
      "outputs": [],
      "source": [
        "datos_entrenamiento = datos[\"train\"]\n",
        "datos_pruebas = datos[\"test\"]"
      ]
    },
    {
      "cell_type": "code",
      "execution_count": 5,
      "metadata": {
        "id": "PsQdnu6GQcba"
      },
      "outputs": [],
      "source": [
        "nombres_clases = metadatos.features[\"label\"].names"
      ]
    },
    {
      "cell_type": "code",
      "execution_count": 6,
      "metadata": {
        "id": "PYTzopV1QnU9"
      },
      "outputs": [],
      "source": [
        "#Normalizacion\n",
        "#0-255 1 byte\n",
        "#Transformar 0-255 0-1 (0=0, 255=1, 127=.5)\n",
        "\n",
        "#Normalizar datos ent y pruebas con una funcion\n",
        "def normalizar(imagenes, etiquetas):\n",
        "  imagenes = tf.cast(imagenes, tf.float32)\n",
        "  imagenes = imagenes/255\n",
        "  return imagenes, etiquetas\n",
        "\n",
        "datos_entrenamiento = datos_entrenamiento.map(normalizar)\n",
        "datos_pruebas = datos_pruebas.map(normalizar)\n",
        "\n",
        "#Agregar en cache\n",
        "datos_entrenamiento = datos_entrenamiento.cache()\n",
        "datos_pruebas = datos_pruebas.cache()"
      ]
    },
    {
      "cell_type": "code",
      "execution_count": null,
      "metadata": {
        "id": "2PvMoeR1SHze"
      },
      "outputs": [],
      "source": [
        "for imagen, etiqueta in datos_entrenamiento.take(1):\n",
        "  break\n",
        "\n",
        "import matplotlib.pyplot as plt\n",
        "\n",
        "#Mostrarlo en pantalla\n",
        "plt.figure()\n",
        "plt.imshow(imagen, cmap=plt.cm.binary)\n",
        "plt.colorbar()\n",
        "plt.show()"
      ]
    },
    {
      "cell_type": "code",
      "execution_count": null,
      "metadata": {
        "id": "st41avTXTILE"
      },
      "outputs": [],
      "source": [
        "plt.figure(figsize=(10,10))\n",
        "for i, (imagen, etiqueta) in enumerate(datos_entrenamiento.take(25)):\n",
        "  #Mostrarlo en pantalla\n",
        "  plt.subplot(5, 5, i+1)\n",
        "  plt.imshow(imagen, cmap=plt.cm.binary)\n",
        "\n",
        "plt.show()"
      ]
    },
    {
      "cell_type": "code",
      "execution_count": null,
      "metadata": {
        "id": "I3YJvHr_TtCG"
      },
      "outputs": [],
      "source": [
        "\"\"\"modelo = tf.keras.Sequential([\n",
        "    #784 datos de entrada\n",
        "    tf.keras.layers.Flatten(input_shape=(28,28,1)), #1 = blanco y negro\n",
        "    # # # Capa oculta\n",
        "    tf.keras.layers.Dense(50, activation=tf.nn.relu),\n",
        "    tf.keras.layers.Dense(50, activation=tf.nn.relu),\n",
        "    # Capa de salida\n",
        "    tf.keras.layers.Dense(10, activation=tf.nn.softmax)\n",
        "])\"\"\"\n",
        "\n",
        "modelo = tf.keras.Sequential([\n",
        "    tf.keras.layers.Conv2D(32, (3,3), input_shape=(28,28,1), activation=\"relu\"), #Primera capa de convolucion. Agrego 32 filtros de 3x3\n",
        "    tf.keras.layers.MaxPooling2D(2,2),                                           #Agrego capa de agrupacion\n",
        "\n",
        "    tf.keras.layers.Conv2D(64, (3,3), activation=\"relu\"),                       #Segunda capa de convolucion. Agrego 64 filtros de 3x3\n",
        "    tf.keras.layers.MaxPooling2D(2,2),                                          #Agrego capa de agrupacion\n",
        "\n",
        "    tf.keras.layers.Flatten(),                                                  #Aca lo estoy agregando lo anterior en una red densa regular\n",
        "    tf.keras.layers.Dense(units=100, activation=\"relu\"),                        #Capa oculta de 100 neuronas con activacion Relu\n",
        "    tf.keras.layers.Dense(10, activation=\"softmax\")                             #10 neuronas de saludas con actuvacion softmax para catalogar.\n",
        "])"
      ]
    },
    {
      "cell_type": "code",
      "execution_count": 10,
      "metadata": {
        "id": "YDG9RR2aUvFi"
      },
      "outputs": [],
      "source": [
        "modelo.compile(\n",
        "    optimizer=\"adam\",\n",
        "    loss=tf.keras.losses.SparseCategoricalCrossentropy(),\n",
        "    metrics=[\"accuracy\"]\n",
        ")"
      ]
    },
    {
      "cell_type": "code",
      "execution_count": 11,
      "metadata": {
        "id": "XlKtFGB1VNo6"
      },
      "outputs": [],
      "source": [
        "TAMANO_LOTE = 32\n",
        "\n",
        "datos_entrenamiento = datos_entrenamiento.repeat().shuffle(60000).batch(TAMANO_LOTE)\n",
        "datos_pruebas = datos_pruebas.batch(TAMANO_LOTE)"
      ]
    },
    {
      "cell_type": "code",
      "execution_count": null,
      "metadata": {
        "id": "V_QNS1W4VrS_"
      },
      "outputs": [],
      "source": [
        "import math\n",
        "\n",
        "#Entrenar\n",
        "entrnamiento = modelo.fit(\n",
        "    datos_entrenamiento, epochs=10,\n",
        "    steps_per_epoch=math.ceil(60000/TAMANO_LOTE)\n",
        ")"
      ]
    },
    {
      "cell_type": "code",
      "execution_count": null,
      "metadata": {
        "id": "reWvnLvnXag8"
      },
      "outputs": [],
      "source": [
        "#Pintar una cuadricula con varias predicciones, y marcar si fue correcta (azul) o incorrecta (roja)\n",
        "import numpy as np\n",
        "\n",
        "for imagenes_prueba, etiquetas_prueba in datos_pruebas.take(1):\n",
        "  imagenes_prueba = imagenes_prueba.numpy()\n",
        "  etiquetas_prueba = etiquetas_prueba.numpy()\n",
        "  predicciones = modelo.predict(imagenes_prueba)\n",
        "\n",
        "def graficar_imagen(i, arr_predicciones, etiquetas_reales, imagenes):\n",
        "  arr_predicciones, etiqueta_real, img = arr_predicciones[i], etiquetas_reales[i], imagenes[i]\n",
        "  plt.grid(False)\n",
        "  plt.xticks([])\n",
        "  plt.yticks([])\n",
        "\n",
        "  plt.imshow(img[...,0], cmap=plt.cm.binary)\n",
        "\n",
        "  etiqueta_prediccion = np.argmax(arr_predicciones)\n",
        "  if etiqueta_prediccion == etiqueta_real:\n",
        "    color = 'blue'\n",
        "  else:\n",
        "    color = 'red'\n",
        "\n",
        "  plt.xlabel(\"{} {:2.0f}% ({})\".format(nombres_clases[etiqueta_prediccion],\n",
        "                                100*np.max(arr_predicciones),\n",
        "                                nombres_clases[etiqueta_real]),\n",
        "                                color=color)\n",
        "\n",
        "def graficar_valor_arreglo(i, arr_predicciones, etiqueta_real):\n",
        "  arr_predicciones, etiqueta_real = arr_predicciones[i], etiqueta_real[i]\n",
        "  plt.grid(False)\n",
        "  plt.xticks([])\n",
        "  plt.yticks([])\n",
        "  grafica = plt.bar(range(10), arr_predicciones, color=\"#777777\")\n",
        "  plt.ylim([0, 1])\n",
        "  etiqueta_prediccion = np.argmax(arr_predicciones)\n",
        "\n",
        "  grafica[etiqueta_prediccion].set_color('red')\n",
        "  grafica[etiqueta_real].set_color('blue')\n",
        "\n",
        "filas = 5\n",
        "columnas = 5\n",
        "num_imagenes = filas*columnas\n",
        "plt.figure(figsize=(2*2*columnas, 2*filas))\n",
        "for i in range(num_imagenes):\n",
        "  plt.subplot(filas, 2*columnas, 2*i+1)\n",
        "  graficar_imagen(i, predicciones, etiquetas_prueba, imagenes_prueba)\n",
        "  plt.subplot(filas, 2*columnas, 2*i+2)\n",
        "  graficar_valor_arreglo(i, predicciones, etiquetas_prueba)"
      ]
    },
    {
      "cell_type": "code",
      "execution_count": null,
      "metadata": {
        "id": "0XgsYDq046Uc"
      },
      "outputs": [],
      "source": [
        "datos, metadatos = tfds.load(\"cats_vs_dogs\", as_supervised=True, with_info=True)"
      ]
    },
    {
      "cell_type": "code",
      "execution_count": null,
      "metadata": {
        "id": "AFvlfcd35UGb"
      },
      "outputs": [],
      "source": [
        "metadatos"
      ]
    },
    {
      "cell_type": "code",
      "execution_count": null,
      "metadata": {
        "id": "mM6LU7L55dL2"
      },
      "outputs": [],
      "source": [
        "tfds.show_examples(datos[\"train\"], metadatos)"
      ]
    },
    {
      "cell_type": "code",
      "execution_count": null,
      "metadata": {
        "id": "9aeruoqu6Aj5"
      },
      "outputs": [],
      "source": [
        "#Vamos a rimensionar las imagenes a un mismo volor de medido 100x100 y las paso a Escalas de grises para que sea mas facil procesar\n",
        "import matplotlib.pyplot as plt\n",
        "import cv2 #opencv - trabajar y hacer trnasformaciones en imagenes\n",
        "\n",
        "plt.figure(figsize=(20,20))\n",
        "\n",
        "TAMANO_IMG=100\n",
        "\n",
        "for i, (imagen, etiqueta) in enumerate(datos[\"train\"].take(25)):\n",
        "  imagen = cv2.resize(imagen.numpy(), (TAMANO_IMG, TAMANO_IMG))\n",
        "  imagen = cv2.cvtColor(imagen, cv2.COLOR_BGR2GRAY)\n",
        "  plt.subplot(5, 5, i+1)\n",
        "  plt.imshow(imagen, cmap=\"gray\")"
      ]
    },
    {
      "cell_type": "code",
      "source": [
        "datos_entrenamiento = []"
      ],
      "metadata": {
        "id": "g7Es4n4pGWf5"
      },
      "execution_count": 18,
      "outputs": []
    },
    {
      "cell_type": "code",
      "source": [
        "#Vamos a iterar para cargar todas las imagenes con el nuevo formato\n",
        "for i, (imagen, etiqueta) in enumerate(datos[\"train\"]):\n",
        "  imagen = cv2.resize(imagen.numpy(), (TAMANO_IMG, TAMANO_IMG))\n",
        "  imagen = cv2.cvtColor(imagen, cv2.COLOR_BGR2GRAY)\n",
        "  imagen = imagen.reshape(TAMANO_IMG, TAMANO_IMG, 1)\n",
        "  datos_entrenamiento.append([imagen, etiqueta])"
      ],
      "metadata": {
        "id": "mr4vO-BzGaVy"
      },
      "execution_count": 19,
      "outputs": []
    },
    {
      "cell_type": "code",
      "source": [
        "datos_entrenamiento[0]"
      ],
      "metadata": {
        "id": "DmT7_t-KGpDH"
      },
      "execution_count": null,
      "outputs": []
    },
    {
      "cell_type": "code",
      "source": [
        "#Preparar variablas X y y imagnes y etiquetas\n",
        "\n",
        "X = []\n",
        "y = []\n",
        "\n",
        "for imagen, etiqueta in datos_entrenamiento:\n",
        "  X.append(imagen)\n",
        "  y.append(etiqueta)"
      ],
      "metadata": {
        "id": "5UhrnkKVGxw7"
      },
      "execution_count": 21,
      "outputs": []
    },
    {
      "cell_type": "code",
      "source": [
        "#Normalizar las imagenes\n",
        "import numpy as np\n",
        "\n",
        "X = np.array(X).astype(float) / 255"
      ],
      "metadata": {
        "id": "eBMN5JV0G6jE"
      },
      "execution_count": 22,
      "outputs": []
    },
    {
      "cell_type": "code",
      "source": [
        "X[0]"
      ],
      "metadata": {
        "id": "EKSnSdtBHAfU"
      },
      "execution_count": null,
      "outputs": []
    },
    {
      "cell_type": "code",
      "source": [
        "y"
      ],
      "metadata": {
        "id": "MZJlKMPJHDjY",
        "colab": {
          "base_uri": "https://localhost:8080/"
        },
        "outputId": "51f3ee34-6619-4c49-c74d-bb1b963f5331"
      },
      "execution_count": 26,
      "outputs": [
        {
          "output_type": "execute_result",
          "data": {
            "text/plain": [
              "array([1, 1, 1, ..., 0, 1, 0])"
            ]
          },
          "metadata": {},
          "execution_count": 26
        }
      ]
    },
    {
      "cell_type": "code",
      "source": [
        "y = np.array(y)"
      ],
      "metadata": {
        "id": "D_xIpRokHE-V"
      },
      "execution_count": 25,
      "outputs": []
    },
    {
      "cell_type": "code",
      "source": [
        "modelo = tf.keras.models.Sequential([\n",
        "    tf.keras.layers.Conv2D(32, (3,3), activation=\"relu\", input_shape=(100, 100, 1)),  #Primer capa de convolucion. Agrego 32 filtros de 3x3\n",
        "    tf.keras.layers.MaxPooling2D(2, 2),                                               #Agrego capa de agrupacion de 2x2\n",
        "    tf.keras.layers.Conv2D(64, (3,3), activation=\"relu\"),                             #Segunda capa de convolucion. Agrego 64 filtros de 3x3\n",
        "    tf.keras.layers.MaxPooling2D(2, 2),                                               #Agrego capa de agrupacion de 2x2\n",
        "    tf.keras.layers.Conv2D(128, (3,3), activation=\"relu\"),                            #Tercer capa de convolucion. Agrego 128 filtros de 3x3\n",
        "    tf.keras.layers.MaxPooling2D(2, 2),                                               #Agrego capa de agrupacion de 2x2\n",
        "    tf.keras.layers.Flatten(),\n",
        "    tf.keras.layers.Dense(100, activation=\"relu\"),                                    #Capa densa de 100 neuronas como primer ejemplo\n",
        "    tf.keras.layers.Dense(1, activation=\"sigmoid\")                                    #La salida solo con 1 neurona y funcion de activacion sigmoid\n",
        "                                                                                      #fuerza una salida de 0 a 1 (o es perro o es gato)\n",
        "])"
      ],
      "metadata": {
        "id": "hcWynZhHHKPY"
      },
      "execution_count": 27,
      "outputs": []
    },
    {
      "cell_type": "code",
      "source": [
        "modelo.compile(\n",
        "    optimizer=\"adam\", loss=\"binary_crossentropy\", metrics=[\"accuracy\"]\n",
        ")"
      ],
      "metadata": {
        "id": "bhwVnnQlHg_C"
      },
      "execution_count": 28,
      "outputs": []
    },
    {
      "cell_type": "code",
      "source": [
        "modelo.fit(\n",
        "    X, y, batch_size=32, validation_split=0.15, epochs=50\n",
        ")"
      ],
      "metadata": {
        "id": "0BxVK3n0IX8p"
      },
      "execution_count": null,
      "outputs": []
    },
    {
      "cell_type": "code",
      "source": [
        "#Sobreajuste over-fitting\n",
        "\n",
        "#Dropout, apagar neuronas\n",
        "#Aumento de datos"
      ],
      "metadata": {
        "id": "m23RgfakHvU5"
      },
      "execution_count": null,
      "outputs": []
    }
  ],
  "metadata": {
    "accelerator": "GPU",
    "colab": {
      "provenance": [],
      "include_colab_link": true
    },
    "gpuClass": "standard",
    "kernelspec": {
      "display_name": "Python 3",
      "name": "python3"
    },
    "language_info": {
      "name": "python"
    }
  },
  "nbformat": 4,
  "nbformat_minor": 0
}