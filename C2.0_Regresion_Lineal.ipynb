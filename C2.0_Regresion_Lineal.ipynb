{
  "nbformat": 4,
  "nbformat_minor": 0,
  "metadata": {
    "colab": {
      "provenance": []
    },
    "kernelspec": {
      "name": "python3",
      "display_name": "Python 3"
    },
    "language_info": {
      "name": "python"
    }
  },
  "cells": [
    {
      "cell_type": "markdown",
      "source": [
        "\n",
        "Librerias:\n",
        "\n",
        "Pandas\n",
        "https://pandas.pydata.org/\n",
        "\n",
        "Numpy\n",
        "https://numpy.org/\n",
        "\n",
        "Scikit-learn\n",
        "https://scikit-learn.org/stable/\n",
        "\n",
        "MatPlotLib\n",
        "https://matplotlib.org/\n",
        "\n",
        "Seaborn\n",
        "https://seaborn.pydata.org/\n",
        "\n",
        "TensorFlow\n",
        "https://www.tensorflow.org/\n",
        "\n",
        "\n",
        "\n",
        "\n"
      ],
      "metadata": {
        "id": "VNwc9ekbNWEZ"
      }
    },
    {
      "cell_type": "code",
      "execution_count": null,
      "metadata": {
        "id": "ZxxmTl9p8cs_"
      },
      "outputs": [],
      "source": [
        "import pandas as pd\n",
        "datos = pd.read_csv(\"celsius.csv\")"
      ]
    },
    {
      "cell_type": "code",
      "source": [
        "datos.info()"
      ],
      "metadata": {
        "id": "5GmnLSQq_AhW"
      },
      "execution_count": null,
      "outputs": []
    },
    {
      "cell_type": "code",
      "source": [
        "datos.head()"
      ],
      "metadata": {
        "id": "YQ1JAD09_Nx3"
      },
      "execution_count": null,
      "outputs": []
    },
    {
      "cell_type": "code",
      "source": [
        "import seaborn as sb\n",
        "\n",
        "sb.scatterplot(x=\"celsius\", y=\"fahrenheit\", data=datos,\n",
        "               hue=\"fahrenheit\", palette=\"coolwarm\")"
      ],
      "metadata": {
        "id": "sbKTcDT5_aCC"
      },
      "execution_count": null,
      "outputs": []
    },
    {
      "cell_type": "code",
      "source": [
        "#Caracteristicas (X), etiqueta (y)\n",
        "X = datos[\"celsius\"]\n",
        "y = datos[\"fahrenheit\"]"
      ],
      "metadata": {
        "id": "oaeNq3gYAC_R"
      },
      "execution_count": null,
      "outputs": []
    },
    {
      "cell_type": "code",
      "source": [
        "y"
      ],
      "metadata": {
        "id": "h0RKk-p6AcEJ"
      },
      "execution_count": null,
      "outputs": []
    },
    {
      "cell_type": "code",
      "source": [
        "#X.values\n",
        "#[-40, -10, 0, 8, ...]\n",
        "#[[-40], [-10], [0], [8], ...]\n",
        "\n",
        "X_procesada = X.values.reshape(-1,1)\n",
        "y_procesada = y.values.reshape(-1,1)"
      ],
      "metadata": {
        "id": "oMKfU-snAiOU"
      },
      "execution_count": null,
      "outputs": []
    },
    {
      "cell_type": "code",
      "source": [
        "from sklearn.linear_model import LinearRegression\n",
        "\n",
        "modelo = LinearRegression()"
      ],
      "metadata": {
        "id": "eo4SS7e7BXKA"
      },
      "execution_count": null,
      "outputs": []
    },
    {
      "cell_type": "code",
      "source": [
        "#Entrenamiento\n",
        "modelo.fit(X_procesada, y_procesada)"
      ],
      "metadata": {
        "id": "uzyBKt5dBofv"
      },
      "execution_count": null,
      "outputs": []
    },
    {
      "cell_type": "code",
      "source": [
        "celsius = 7900\n",
        "prediccion = modelo.predict([[celsius]])\n",
        "print(f\"{celsius} grados celsius son {prediccion} grados fahrenheit\")"
      ],
      "metadata": {
        "id": "nr25v_gyB4WW"
      },
      "execution_count": null,
      "outputs": []
    },
    {
      "cell_type": "code",
      "source": [
        "modelo.score(X_procesada, y_procesada)"
      ],
      "metadata": {
        "id": "NhsQGCByCNPl"
      },
      "execution_count": null,
      "outputs": []
    }
  ]
}