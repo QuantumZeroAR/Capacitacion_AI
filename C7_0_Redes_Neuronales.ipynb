{
  "nbformat": 4,
  "nbformat_minor": 0,
  "metadata": {
    "colab": {
      "provenance": [],
      "authorship_tag": "ABX9TyM+TNtyAAxQVohg8YWfo1S1",
      "include_colab_link": true
    },
    "kernelspec": {
      "name": "python3",
      "display_name": "Python 3"
    },
    "language_info": {
      "name": "python"
    }
  },
  "cells": [
    {
      "cell_type": "markdown",
      "metadata": {
        "id": "view-in-github",
        "colab_type": "text"
      },
      "source": [
        "<a href=\"https://colab.research.google.com/github/QuantumZeroAR/Capacitacion_AI/blob/main/C7_0_Redes_Neuronales.ipynb\" target=\"_parent\"><img src=\"https://colab.research.google.com/assets/colab-badge.svg\" alt=\"Open In Colab\"/></a>"
      ]
    },
    {
      "cell_type": "markdown",
      "source": [
        "# **Redes Neuronales**\n",
        "\n",
        "\n",
        "\n",
        "Una red neuronal es un programa, o modelo, de machine learning que toma decisiones de forma similar al cerebro humano, utilizando procesos que imitan la forma en que las neuronas biológicas trabajan juntas para identificar fenómenos, sopesar opciones y llegar a conclusiones.\n",
        "\n",
        "Toda red neuronal consta de capas de nodos o neuronas artificiales: una capa de entrada, una o varias capas ocultas y una capa de salida. Cada nodo se conecta a los demás y tiene su propia ponderación y umbral asociados. Si la salida de cualquier nodo individual está por encima del valor umbral especificado, ese nodo se activa y envía datos a la siguiente capa de la red. De lo contrario, no se pasa ningún dato a la siguiente capa de la red.\n",
        "\n",
        "Las redes neuronales se basan en datos de entrenamiento para aprender y mejorar su precisión con el tiempo. Una perfeccionadas, se convierten en potentes herramientas en informática e inteligencia artificial, que nos permiten clasificar y agrupar datos a gran velocidad. Las tareas de reconocimiento de voz o de imágenes pueden llevar minutos frente a horas si se comparan con la identificación manual por parte de expertos humanos. Uno de los ejemplos más conocidos de red neuronal es el algoritmo de búsqueda de Google.\n"
      ],
      "metadata": {
        "id": "t_W6WEqaKO2D"
      }
    },
    {
      "cell_type": "code",
      "execution_count": null,
      "metadata": {
        "id": "MQvKbtGQKI0M"
      },
      "outputs": [],
      "source": []
    }
  ]
}