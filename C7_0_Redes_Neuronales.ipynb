{
  "nbformat": 4,
  "nbformat_minor": 0,
  "metadata": {
    "colab": {
      "provenance": [],
      "authorship_tag": "ABX9TyNrrIszJdqm/uva/qEiIad3",
      "include_colab_link": true
    },
    "kernelspec": {
      "name": "python3",
      "display_name": "Python 3"
    },
    "language_info": {
      "name": "python"
    }
  },
  "cells": [
    {
      "cell_type": "markdown",
      "metadata": {
        "id": "view-in-github",
        "colab_type": "text"
      },
      "source": [
        "<a href=\"https://colab.research.google.com/github/QuantumZeroAR/Capacitacion_AI/blob/main/C7_0_Redes_Neuronales.ipynb\" target=\"_parent\"><img src=\"https://colab.research.google.com/assets/colab-badge.svg\" alt=\"Open In Colab\"/></a>"
      ]
    },
    {
      "cell_type": "markdown",
      "source": [
        "# **Redes Neuronales**\n",
        "\n",
        "\n",
        "\n",
        "Una red neuronal es un programa, o modelo, de machine learning que toma decisiones de forma similar al cerebro humano, utilizando procesos que imitan la forma en que las neuronas biológicas trabajan juntas para identificar fenómenos, sopesar opciones y llegar a conclusiones.\n",
        "\n",
        "Toda red neuronal consta de capas de nodos o neuronas artificiales: una capa de entrada, una o varias capas ocultas y una capa de salida. Cada nodo se conecta a los demás y tiene su propia ponderación y umbral asociados. Si la salida de cualquier nodo individual está por encima del valor umbral especificado, ese nodo se activa y envía datos a la siguiente capa de la red. De lo contrario, no se pasa ningún dato a la siguiente capa de la red.\n",
        "\n",
        "Las redes neuronales se basan en datos de entrenamiento para aprender y mejorar su precisión con el tiempo. Una perfeccionadas, se convierten en potentes herramientas en informática e inteligencia artificial, que nos permiten clasificar y agrupar datos a gran velocidad. Las tareas de reconocimiento de voz o de imágenes pueden llevar minutos frente a horas si se comparan con la identificación manual por parte de expertos humanos. Uno de los ejemplos más conocidos de red neuronal es el algoritmo de búsqueda de Google.\n"
      ],
      "metadata": {
        "id": "t_W6WEqaKO2D"
      }
    },
    {
      "cell_type": "code",
      "execution_count": null,
      "metadata": {
        "id": "MQvKbtGQKI0M"
      },
      "outputs": [],
      "source": [
        "#Tensorflow"
      ]
    },
    {
      "cell_type": "code",
      "source": [
        "import pandas as pd\n",
        "\n",
        "datos = pd.read_csv(\"celsius.csv\")"
      ],
      "metadata": {
        "id": "CSLaGo2oK21G"
      },
      "execution_count": null,
      "outputs": []
    },
    {
      "cell_type": "code",
      "source": [
        "datos.head()"
      ],
      "metadata": {
        "id": "w1aMeIDWK5yQ"
      },
      "execution_count": null,
      "outputs": []
    },
    {
      "cell_type": "code",
      "source": [
        "datos[\"celsius\"].values"
      ],
      "metadata": {
        "id": "IT_I4XrrK8D0"
      },
      "execution_count": null,
      "outputs": []
    },
    {
      "cell_type": "code",
      "source": [
        "X = datos[\"celsius\"].values\n",
        "y = datos[\"fahrenheit\"].values"
      ],
      "metadata": {
        "id": "MyS_pBBGK-dH"
      },
      "execution_count": null,
      "outputs": []
    },
    {
      "cell_type": "code",
      "source": [
        "import tensorflow as tf\n",
        "\n",
        "modelo = tf.keras.Sequential([\n",
        "    tf.keras.layers.Input(shape=(1,)),  #Entrada, los celsius: 1 solo dato\n",
        "    tf.keras.layers.Dense(units=1),     #Salida. Tambien es un dato: Los grados fahrenheit\n",
        "])\n",
        "\n",
        "modelo.compile(\n",
        "    optimizer=tf.keras.optimizers.Adam(.1),\n",
        "    loss=\"mean_squared_error\"\n",
        ")"
      ],
      "metadata": {
        "id": "aBrcbOHiLBHa"
      },
      "execution_count": null,
      "outputs": []
    },
    {
      "cell_type": "code",
      "source": [
        "entrenamiento = modelo.fit(X, y, epochs=1000)"
      ],
      "metadata": {
        "id": "pFBB_B8zLDoM"
      },
      "execution_count": null,
      "outputs": []
    },
    {
      "cell_type": "code",
      "source": [
        "import matplotlib.pyplot as plt\n",
        "\n",
        "plt.xlabel(\"# Epoca\")\n",
        "plt.ylabel(\"Magnitud de la pérdida\")\n",
        "plt.plot(entrenamiento.history[\"loss\"])"
      ],
      "metadata": {
        "id": "4BDXGke8LGMR"
      },
      "execution_count": null,
      "outputs": []
    },
    {
      "cell_type": "code",
      "source": [
        "import numpy as np # Import the NumPy library\n",
        "\n",
        "c = 1230\n",
        "prediccion = modelo.predict(np.array([c]))\n",
        "print(f\"Predicción: {c} celsius son {prediccion[0]} fahrenheit\")"
      ],
      "metadata": {
        "id": "ggnyMaiYLWbA"
      },
      "execution_count": null,
      "outputs": []
    },
    {
      "cell_type": "code",
      "source": [
        "print(modelo.layers[0].get_weights())"
      ],
      "metadata": {
        "id": "zi6BASl_Lbfx"
      },
      "execution_count": null,
      "outputs": []
    },
    {
      "cell_type": "code",
      "source": [
        "# Calculo real para convertir celsius a fahrenheit es\n",
        "# (C * 1.8) + 32\n",
        "# Backpropagation / Propagación hacia atrás."
      ],
      "metadata": {
        "id": "bxVMtVfALd1i"
      },
      "execution_count": null,
      "outputs": []
    }
  ]
}