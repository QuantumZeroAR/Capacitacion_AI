{
  "nbformat": 4,
  "nbformat_minor": 0,
  "metadata": {
    "colab": {
      "provenance": [],
      "authorship_tag": "ABX9TyMEcoy59kNTVWEOk3DerIx6",
      "include_colab_link": true
    },
    "kernelspec": {
      "name": "python3",
      "display_name": "Python 3"
    },
    "language_info": {
      "name": "python"
    }
  },
  "cells": [
    {
      "cell_type": "markdown",
      "metadata": {
        "id": "view-in-github",
        "colab_type": "text"
      },
      "source": [
        "<a href=\"https://colab.research.google.com/github/QuantumZeroAR/Capacitacion_AI/blob/main/C7_0_Redes_Neuronales.ipynb\" target=\"_parent\"><img src=\"https://colab.research.google.com/assets/colab-badge.svg\" alt=\"Open In Colab\"/></a>"
      ]
    },
    {
      "cell_type": "markdown",
      "source": [
        "# **Redes Neuronales**\n",
        "\n",
        "Son estructuras inspiradas en el cerebro humano. Si bien es una buena analogia no representa fielmente como funciona una neurona natural, pero si basa su principio de funcionamiento en esta analogia.\n",
        "Es muy utilizada en M.L. por los buenos resultados que se pueden obtener en una variadad de problemas.\n"
      ],
      "metadata": {
        "id": "t_W6WEqaKO2D"
      }
    },
    {
      "cell_type": "code",
      "execution_count": null,
      "metadata": {
        "id": "MQvKbtGQKI0M"
      },
      "outputs": [],
      "source": []
    }
  ]
}