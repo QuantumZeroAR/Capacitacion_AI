{
  "nbformat": 4,
  "nbformat_minor": 0,
  "metadata": {
    "colab": {
      "provenance": []
    },
    "kernelspec": {
      "name": "python3",
      "display_name": "Python 3"
    },
    "language_info": {
      "name": "python"
    }
  },
  "cells": [
    {
      "cell_type": "markdown",
      "source": [
        "#  **Regresion Logistica**\n",
        "En estadística, la regresión logística es un tipo de análisis de clasificación utilizado para predecir el resultado de una variable categórica (una variable que puede adoptar un número limitado de categorías) en función de las variables independientes. Es útil para modelar la probabilidad de un evento ocurriendo en función de otros factores.\n",
        "\n",
        "La regresión logística unidimensional puede usarse para tratar de correlacionar la probabilidad de una variable cualitativa binaria (asumiremos que puede tomar los valores reales \"0\" y \"1\") con una variable escalar x. La idea es que la regresión logística aproxime la probabilidad de obtener \"0\" (no ocurre cierto suceso) o \"1\" (ocurre el suceso) con el valor de la variable explicativa x.\n",
        "\n",
        "\n",
        "\n",
        "Fuente: [Wikipedia](https://es.wikipedia.org/wiki/Regresi%C3%B3n_log%C3%ADstica)\n",
        "\n"
      ],
      "metadata": {
        "id": "eGXfQMWQYZX5"
      }
    },
    {
      "cell_type": "markdown",
      "source": [
        "Forma general de la funcion de regresion logistica.\n",
        "\n",
        "![Captura de pantalla 2024-09-06 a la(s) 2.05.28 a. m..jpg](data:image/jpeg;base64,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)"
      ],
      "metadata": {
        "id": "RhkwfEoZcjwr"
      }
    },
    {
      "cell_type": "code",
      "source": [
        "import numpy as np\n",
        "import matplotlib.pyplot as plt\n",
        "\n",
        "def sigmoid(z):\n",
        "    return (1/(1+np.exp(-z)))\n",
        "\n",
        "T = 20\n",
        "\n",
        "z = np.arange(-T,T, 0.1)\n",
        "\n",
        "plt.figure(figsize=(10, 4))\n",
        "plt.axvline(0.0,color='k')\n",
        "plt.axhline(0.0,ls='dotted', color='k')\n",
        "plt.axhline(1.0,ls='dotted', color='k')\n",
        "plt.axhline(0.5,color='k')\n",
        "plt.plot(z,sigmoid(z))\n",
        "plt.ylim(-.1,1.1)\n",
        "plt.xlabel('z')\n",
        "plt.ylabel('$\\phi(z)$')\n",
        "plt.suptitle('Capacitacion IA/E.A. Funcion logistica Sigmoide')\n",
        "plt.show()\n"
      ],
      "metadata": {
        "id": "7MjH3KOkmeLn"
      },
      "execution_count": null,
      "outputs": []
    },
    {
      "cell_type": "markdown",
      "source": [
        "\n",
        "\n",
        "---\n",
        "\n"
      ],
      "metadata": {
        "id": "x_0McxNAmzUz"
      }
    },
    {
      "cell_type": "markdown",
      "source": [
        "# **Ejercicio**\n",
        "# **Supervivencia en el Titanic**\n",
        "\n",
        "Fuente de los datos: [Kaggle](https://www.kaggle.com/)"
      ],
      "metadata": {
        "id": "LqRzPOP0tRDM"
      }
    },
    {
      "cell_type": "code",
      "source": [
        "import pandas as pd\n",
        "datos = pd.read_csv(\"train.csv\")"
      ],
      "metadata": {
        "id": "pJVtfeiiO97v"
      },
      "execution_count": null,
      "outputs": []
    },
    {
      "cell_type": "code",
      "source": [
        "# Set de datos sobre el undimiento del Titanic\n",
        "# https://www.kaggle.com/c/titanic/data\n",
        "\n",
        "# Descripcion de Columnas:\n",
        "# survival  Si sobrevio a la tragedia /\t0 = No, 1 = Yes\n",
        "# pclass    Clase de boleto comprado /\t1 = 1st, 2 = 2nd, 3 = 3rd\n",
        "# sex       Sexo\n",
        "# Age       Edad en años\n",
        "# sibsp     Número de hermanos / cónyuges a bordo del Titanic\n",
        "# parch     Número de padres / hijos a bordo del Titanic\n",
        "# ticket    Número de ticket\n",
        "# fare      Precio del boleto\n",
        "# cabin     Número de cabina\n",
        "# embarked  Puerto de embarque / C = Cherbourg, Q = Queenstown, S = Southampton\n",
        "\n",
        "datos.head()\n"
      ],
      "metadata": {
        "id": "Zgwq5RKtPBVe"
      },
      "execution_count": null,
      "outputs": []
    },
    {
      "cell_type": "code",
      "source": [
        "#Ver un poco mas de informacion\n",
        "\n",
        "#datos.info()\n",
        "datos.describe()"
      ],
      "metadata": {
        "id": "iICkHR1mQUAk"
      },
      "execution_count": null,
      "outputs": []
    },
    {
      "cell_type": "code",
      "source": [
        "#Graficamos sobrevivientes en general\n",
        "\n",
        "import seaborn as sb\n",
        "sb.countplot(x=\"Survived\", data=datos)"
      ],
      "metadata": {
        "id": "MT8SQMpdQwXn"
      },
      "execution_count": null,
      "outputs": []
    },
    {
      "cell_type": "code",
      "source": [
        "sb.countplot(x=\"Survived\", data=datos, hue=\"Sex\")"
      ],
      "metadata": {
        "id": "fZubkgG1Q5NE"
      },
      "execution_count": null,
      "outputs": []
    },
    {
      "cell_type": "code",
      "source": [
        "#Sumar cantidad de datos NA\n",
        "\n",
        "datos.isna().sum()"
      ],
      "metadata": {
        "id": "0Q0tp2y4RCvW"
      },
      "execution_count": null,
      "outputs": []
    },
    {
      "cell_type": "code",
      "source": [
        "#Graficamos una distribucion de las edades\n",
        "#conocidas para ver el promedio de edad\n",
        "\n",
        "sb.displot(x=\"Age\", data=datos)"
      ],
      "metadata": {
        "id": "VvmExAXQRfR7"
      },
      "execution_count": null,
      "outputs": []
    },
    {
      "cell_type": "code",
      "source": [
        "datos[\"Age\"]"
      ],
      "metadata": {
        "id": "tCNxMhy3RpbB"
      },
      "execution_count": null,
      "outputs": []
    },
    {
      "cell_type": "code",
      "source": [
        "#Ver el valor promedio de edad\n",
        "\n",
        "datos[\"Age\"].mean()\n"
      ],
      "metadata": {
        "id": "xguO31vnRunm"
      },
      "execution_count": null,
      "outputs": []
    },
    {
      "cell_type": "code",
      "source": [
        "#Rellanamos los valores de Edad que no tienen datos\n",
        "#con el promedio de edad de los pasajeros. fillna llena los vacio\n",
        "#asi como drop los borra.\n",
        "#Esto no modifica el set de datos original sino que me devuelve uno nuevo.\n",
        "#Si despues de ejecutar fillna vuelvo a ejecutar datos[\"Age\"] sigue son cambios.\n",
        "\n",
        "datos[\"Age\"].fillna(datos[\"Age\"].mean())\n"
      ],
      "metadata": {
        "id": "zLVrwjVbR0oP"
      },
      "execution_count": null,
      "outputs": []
    },
    {
      "cell_type": "code",
      "source": [
        "#Con esto modificamos el set de datos original\n",
        "# Escribimos lo anterior para reemplazar nuestro arreglo datos[]\n",
        "#datos[\"Age\"] = datos[\"Age\"].fillna(30)\n",
        "\n",
        "datos[\"Age\"] = datos[\"Age\"].fillna(datos[\"Age\"].mean())\n",
        "\n"
      ],
      "metadata": {
        "id": "KHyPUICQR_Z9"
      },
      "execution_count": null,
      "outputs": []
    },
    {
      "cell_type": "code",
      "source": [
        "datos[\"Age\"]"
      ],
      "metadata": {
        "id": "e-GV2EuwSEKt"
      },
      "execution_count": null,
      "outputs": []
    },
    {
      "cell_type": "code",
      "source": [
        "datos.isna().sum()"
      ],
      "metadata": {
        "id": "z5P7zGmxSGGu"
      },
      "execution_count": null,
      "outputs": []
    },
    {
      "cell_type": "code",
      "source": [
        "#Eliminamos las columna Cabin ya que no seria relevante para el analisis\n",
        "#axis=1 es para decirle que es una columna.\n",
        "\n",
        "datos = datos.drop([\"Cabin\"], axis=1)\n"
      ],
      "metadata": {
        "id": "kJz6C-f2SQxx"
      },
      "execution_count": null,
      "outputs": []
    },
    {
      "cell_type": "code",
      "source": [
        "datos[\"Embarked\"].value_counts()"
      ],
      "metadata": {
        "id": "C04tlv5sSWAR"
      },
      "execution_count": null,
      "outputs": []
    },
    {
      "cell_type": "code",
      "source": [
        "# Como quedan unos pocos datos sin determinar puerto de embarque\n",
        "# Diretamente los eliminamos por completo\n",
        "\n",
        "datos = datos.dropna()\n"
      ],
      "metadata": {
        "id": "ya42gGoXSdtE"
      },
      "execution_count": null,
      "outputs": []
    },
    {
      "cell_type": "code",
      "source": [
        "datos.isna().sum()"
      ],
      "metadata": {
        "id": "Vwg8B0F8vkcV"
      },
      "execution_count": null,
      "outputs": []
    },
    {
      "cell_type": "code",
      "source": [
        "datos.head()"
      ],
      "metadata": {
        "id": "Q51ILlwYSlFe"
      },
      "execution_count": null,
      "outputs": []
    },
    {
      "cell_type": "code",
      "source": [
        "#Elmininamos Nombre, Id y numero de Ticket por no se relevante\n",
        "#axis=1 para indicar que es una columna\n",
        "\n",
        "datos = datos.drop([\"Name\", \"PassengerId\", \"Ticket\"], axis=1)\n"
      ],
      "metadata": {
        "id": "YYAWbUd7SpG2"
      },
      "execution_count": null,
      "outputs": []
    },
    {
      "cell_type": "code",
      "source": [
        "#Para convertir la columan sex en numerica puedo usar la funcion\n",
        "#de Pandas get_dummies()\n",
        "#Por el momento me esta devolviendo un set de datos nuevos y no estoy\n",
        "#modificando el original\n",
        "\n",
        "pd.get_dummies(datos[\"Sex\"])"
      ],
      "metadata": {
        "id": "NOuxBA3zSw18"
      },
      "execution_count": null,
      "outputs": []
    },
    {
      "cell_type": "code",
      "source": [
        "#Dado que las columnas son mutuamente excluyentes\n",
        "#puedo usar el parametro adicional drop_first=True\n",
        "#Este eliminina la primera de las dos colunas, es decir\n",
        "#la columna Female.\n",
        "#Asi ayuda a no ser redundante con la informacion y previene\n",
        "#un efecto denominado multicolineality, que produce que el\n",
        "#modelo encuentre relaciones donde no deberia.\n",
        "\n",
        "pd.get_dummies(datos[\"Sex\"], drop_first=True)"
      ],
      "metadata": {
        "id": "J65nnbeGwibh"
      },
      "execution_count": null,
      "outputs": []
    },
    {
      "cell_type": "code",
      "source": [
        "#Guardamos el resultado en una nueva variable\n",
        "\n",
        "dummies_sex = pd.get_dummies(datos[\"Sex\"], drop_first=True)"
      ],
      "metadata": {
        "id": "K92mEnCTxQSy"
      },
      "execution_count": null,
      "outputs": []
    },
    {
      "cell_type": "code",
      "source": [
        "#Agregamos una nueva columna que corresponde a los nuevos datos\n",
        "#que creamos y eliminamos la columna Sex original.\n",
        "\n",
        "datos = datos.join(dummies_sex)\n",
        "datos = datos.drop([\"Sex\"], axis=1)"
      ],
      "metadata": {
        "id": "IlQ9hiG0TQSl"
      },
      "execution_count": null,
      "outputs": []
    },
    {
      "cell_type": "code",
      "source": [
        "sb.countplot(x=\"Survived\", data=datos, hue=\"Embarked\")"
      ],
      "metadata": {
        "id": "NZyUEv5aTbxZ"
      },
      "execution_count": null,
      "outputs": []
    },
    {
      "cell_type": "code",
      "source": [
        "#Mismo procedimiento que hicimos con Sex.\n",
        "#Pero con tres columnas. Eliminamos la primera.\n",
        "dummies_embarked = pd.get_dummies(datos[\"Embarked\"], drop_first=True)"
      ],
      "metadata": {
        "id": "D4eNMVS6TnWl"
      },
      "execution_count": null,
      "outputs": []
    },
    {
      "cell_type": "code",
      "source": [
        "#Mismo procedimiento que hicimos con Sex.\n",
        "datos = datos.join(dummies_embarked)\n",
        "datos = datos.drop([\"Embarked\"], axis=1)"
      ],
      "metadata": {
        "id": "rBKZ3bLITsJ1"
      },
      "execution_count": null,
      "outputs": []
    },
    {
      "cell_type": "code",
      "source": [
        "#Graficamos correlacion entre las variables.\n",
        "#Grafico de calor, cmap indica la paleta de colores.\n",
        "\n",
        "sb.heatmap(datos.corr(), annot=True, cmap=\"YlGnBu\")"
      ],
      "metadata": {
        "id": "cd169FI5T1ox"
      },
      "execution_count": null,
      "outputs": []
    },
    {
      "cell_type": "code",
      "source": [
        "sb.countplot(x=\"Survived\", data=datos, hue=\"Pclass\")"
      ],
      "metadata": {
        "id": "26BzIdo5UL_-"
      },
      "execution_count": null,
      "outputs": []
    },
    {
      "cell_type": "code",
      "source": [
        "#Preparamos los datos para el entrenamiento\n",
        "#Survived es nuestra variable independiente.\n",
        "\n",
        "X = datos.drop([\"Survived\"], axis=1)\n",
        "y = datos[\"Survived\"]"
      ],
      "metadata": {
        "id": "y4dtnE04Ud3Q"
      },
      "execution_count": null,
      "outputs": []
    },
    {
      "cell_type": "code",
      "source": [
        "X"
      ],
      "metadata": {
        "id": "E7-F13702oM2"
      },
      "execution_count": null,
      "outputs": []
    },
    {
      "cell_type": "code",
      "source": [
        "#Separamos los datos en:\n",
        "#X_entrenamiento\n",
        "#X_prueba\n",
        "#y_entrenamiento\n",
        "#y_prueba\n",
        "#Indicamos que porcentaje asignar a entrenamiento y prueba.\n",
        "\n",
        "from sklearn.model_selection import train_test_split\n",
        "\n",
        "X_ent, X_pru, y_ent, y_pru = train_test_split(X, y, test_size=.2)"
      ],
      "metadata": {
        "id": "mnqtdoa8Uim8"
      },
      "execution_count": null,
      "outputs": []
    },
    {
      "cell_type": "code",
      "source": [
        "#Importamos modelo de regresion logistica.\n",
        "\n",
        "from sklearn.linear_model import LogisticRegression\n",
        "\n",
        "modelo = LogisticRegression(max_iter=1000)\n",
        "modelo.fit(X_ent, y_ent)"
      ],
      "metadata": {
        "id": "QZ1o3G_NUpmE"
      },
      "execution_count": null,
      "outputs": []
    },
    {
      "cell_type": "code",
      "source": [
        "predicciones = modelo.predict(X_pru)"
      ],
      "metadata": {
        "id": "Bk0VV8yXU5go"
      },
      "execution_count": null,
      "outputs": []
    },
    {
      "cell_type": "code",
      "source": [
        "from sklearn.metrics import accuracy_score\n",
        "accuracy_score(y_pru, predicciones)"
      ],
      "metadata": {
        "id": "qtteHwEvVAyZ"
      },
      "execution_count": null,
      "outputs": []
    },
    {
      "cell_type": "code",
      "source": [
        "#Otra informacion de metricas de precision del modelos\n",
        "#Para ampliar informacion leer en sklearn\n",
        "\n",
        "from sklearn.metrics import classification_report\n",
        "\n",
        "print(classification_report(y_pru, predicciones))"
      ],
      "metadata": {
        "id": "09E90f95VRAF"
      },
      "execution_count": null,
      "outputs": []
    },
    {
      "cell_type": "code",
      "source": [
        "#Matriz de confusion.\n",
        "#https://scikit-learn.org/stable/modules/generated/sklearn.metrics.confusion_matrix.html\n",
        "\n",
        "from sklearn.metrics import confusion_matrix\n",
        "\n",
        "confusion_matrix(y_pru, predicciones)"
      ],
      "metadata": {
        "id": "Swc3yzozVfyF"
      },
      "execution_count": null,
      "outputs": []
    },
    {
      "cell_type": "code",
      "source": [
        "#Creo una matriz para visualizar con Pandas.\n",
        "#Cuando el modelo predijo que NO, cuales de esos datos verdaderamento fueron NO\n",
        "#Lo mimso para SI.\n",
        "\n",
        "pd.DataFrame(confusion_matrix(y_pru, predicciones), columns=[\"Pred: No\", \"Pred: Si\"], index=[\"Real: No\", \"Real: Si\"])"
      ],
      "metadata": {
        "id": "YoK_wZfBVloH"
      },
      "execution_count": null,
      "outputs": []
    },
    {
      "cell_type": "code",
      "source": [
        "X.head()"
      ],
      "metadata": {
        "id": "nWKmxdo9V_jo"
      },
      "execution_count": null,
      "outputs": []
    },
    {
      "cell_type": "code",
      "source": [
        "#Creo una persona hipotetica y se envio al modelo para ver\n",
        "#si esa persona hubiera sobrevivido o no al Titanic.\n",
        "#nueva_persona = [Pclass,Edad,SibSp,Parch,Costo,Masculino, Puerto_Q, Puerto_S]\n",
        "\n",
        "nueva_persona = [2, 35, 0, 0, 30, 0, 0, 0]\n",
        "prediccion = modelo.predict([nueva_persona])\n",
        "if prediccion[0] == 1:\n",
        "  print(\"Sobreviviste\")\n",
        "else:\n",
        "  print(\"No sobreviviste\")"
      ],
      "metadata": {
        "id": "DB0GiKN5V9nu"
      },
      "execution_count": null,
      "outputs": []
    }
  ]
}