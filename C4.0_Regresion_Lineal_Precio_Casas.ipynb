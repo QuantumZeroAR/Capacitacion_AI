{
  "nbformat": 4,
  "nbformat_minor": 0,
  "metadata": {
    "colab": {
      "provenance": [],
      "include_colab_link": true
    },
    "kernelspec": {
      "name": "python3",
      "display_name": "Python 3"
    },
    "language_info": {
      "name": "python"
    }
  },
  "cells": [
    {
      "cell_type": "markdown",
      "metadata": {
        "id": "view-in-github",
        "colab_type": "text"
      },
      "source": [
        "<a href=\"https://colab.research.google.com/github/QuantumZeroAR/Capacitacion_AI/blob/main/C4.0_Regresion_Lineal_Precio_Casas.ipynb\" target=\"_parent\"><img src=\"https://colab.research.google.com/assets/colab-badge.svg\" alt=\"Open In Colab\"/></a>"
      ]
    },
    {
      "cell_type": "markdown",
      "source": [
        "# **Regresion lineal costo casas en California.**\n",
        "\n",
        "www.kaggle.com\n",
        "Usaremos dataset: https://www.kaggle.com/datasets/camnugent/california-housing-prices\n",
        "\n",
        "Precio de las casas en el estado de California\n",
        "\n",
        "\n",
        "1. longitude: medida de qué tan al oeste está una casa; un valor más alto es más al oeste\n",
        "\n",
        "2. latitude: medida de qué tan al norte está una casa; un valor más alto es más al norte\n",
        "\n",
        "3. housingMedianAge: Medad media de una casa dentro de una cuadra; un número más bajo es un edificio más nuevo\n",
        "\n",
        "4. totalRooms: número total de habitaciones dentro de una cuadra\n",
        "\n",
        "5. totalBedrooms: número total de habitaciones para dormir dentro de una cuadra\n",
        "\n",
        "6. population: número total de personas que residen dentro de una cuadra\n",
        "\n",
        "7. households: Total de casas en la cuadra.\n",
        "\n",
        "8. medianIncome: ingreso medio para hogares dentro de una cuadra de casas (medido en decenas de miles de dólares estadounidenses, es decir: x10000)\n",
        "\n",
        "9. medianHouseValue: valor medio de la casa para hogares dentro de una cuadra (medido en dólares estadounidenses)\n",
        "\n",
        "10. oceanProximity: ubicación de la casa con respecto al océano. 1H OCEAN, INLAND, NEAR OCEAN, NEAR BAY, ISLAND\n",
        "\n",
        "Son bloques de casas por latitud y longitud. Por eso se expresan los valores en promedios de cada bloque.\n",
        "\n",
        "\n"
      ],
      "metadata": {
        "id": "ztcnQ9Ho5SD0"
      }
    },
    {
      "cell_type": "code",
      "execution_count": 1,
      "metadata": {
        "id": "j2d2HlucFtvF"
      },
      "outputs": [],
      "source": [
        "import pandas as pd\n",
        "\n",
        "datos = pd.read_csv(\"housing.csv\")"
      ]
    },
    {
      "cell_type": "code",
      "source": [
        "datos.head()"
      ],
      "metadata": {
        "id": "mC0WoJXLHcsn"
      },
      "execution_count": null,
      "outputs": []
    },
    {
      "cell_type": "code",
      "source": [
        "#Estos datos mas adelante tendremos que pasarlos a numericos\n",
        "datos[\"ocean_proximity\"].value_counts()"
      ],
      "metadata": {
        "id": "n6J_5EvNH_qm"
      },
      "execution_count": null,
      "outputs": []
    },
    {
      "cell_type": "code",
      "source": [
        "#Total_bedrooms mas adelante hay que ver que hacer con los valores faltantes\n",
        "datos.info()"
      ],
      "metadata": {
        "id": "hr1hM9rrIhn4"
      },
      "execution_count": null,
      "outputs": []
    },
    {
      "cell_type": "code",
      "source": [
        "#Los ingresos promedios van de U$S5.000 a U$S150.000\n",
        "datos.describe()"
      ],
      "metadata": {
        "id": "7z_u4fU5IyY9"
      },
      "execution_count": null,
      "outputs": []
    },
    {
      "cell_type": "code",
      "source": [
        "#Vamos a graficar enforma automatica algunos histogramas.\n",
        "# ver que antiguedad posiblemente esta cargando todo lo que es mayor a 52 en 52.\n",
        "# Lo mismo pasa con el valor de las casas he ingresos. Hay que ver como manejar esto\n",
        "\n",
        "datos.hist(figsize=(15,8), bins=30, edgecolor=\"black\")"
      ],
      "metadata": {
        "id": "XIqd0J9-JkU0"
      },
      "execution_count": null,
      "outputs": []
    },
    {
      "cell_type": "code",
      "source": [
        "import seaborn as sb\n",
        "sb.scatterplot(x=\"latitude\", y=\"longitude\", data=datos)"
      ],
      "metadata": {
        "id": "Lk08bfNcCUPY"
      },
      "execution_count": null,
      "outputs": []
    },
    {
      "cell_type": "code",
      "source": [
        "sb.scatterplot(x=\"latitude\", y=\"longitude\", data=datos, hue=\"median_house_value\")"
      ],
      "metadata": {
        "id": "sQWB0vksCeym"
      },
      "execution_count": null,
      "outputs": []
    },
    {
      "cell_type": "code",
      "source": [
        "sb.scatterplot(x=\"latitude\", y=\"longitude\", data=datos, hue=\"median_house_value\", palette=\"coolwarm\")\n",
        "\n",
        "#sizes=datos[\"population\"]/100"
      ],
      "metadata": {
        "id": "2pFWjgo9CmA3"
      },
      "execution_count": null,
      "outputs": []
    },
    {
      "cell_type": "code",
      "source": [
        "#vamos a filtrar los datos en el grafico para mostrar solo los que mas altos ingresos tienen.\n",
        "sb.scatterplot(x=\"latitude\", y=\"longitude\", data=datos[(datos.median_income > 14)], hue=\"median_house_value\", palette=\"coolwarm\")"
      ],
      "metadata": {
        "id": "FC27CuLxLPR0"
      },
      "execution_count": null,
      "outputs": []
    },
    {
      "cell_type": "code",
      "source": [
        "datos.info()"
      ],
      "metadata": {
        "id": "7oNltIH0LiMZ"
      },
      "execution_count": null,
      "outputs": []
    },
    {
      "cell_type": "code",
      "source": [
        "#Eliminamos na directamente ya que son pocos datos.\n",
        "\n",
        "datos_na = datos.dropna()"
      ],
      "metadata": {
        "id": "AKvIUPCHLr97"
      },
      "execution_count": 17,
      "outputs": []
    },
    {
      "cell_type": "code",
      "source": [
        "datos_na.info()"
      ],
      "metadata": {
        "id": "bfBRf2cML9Ak"
      },
      "execution_count": null,
      "outputs": []
    },
    {
      "cell_type": "code",
      "source": [
        "#Convertir la caracteística categórica a numérica\n",
        "#Proximidad al oceano\n",
        "datos_na[\"ocean_proximity\"]\n"
      ],
      "metadata": {
        "id": "WtTKmmwNMB4E"
      },
      "execution_count": null,
      "outputs": []
    },
    {
      "cell_type": "code",
      "source": [
        "datos_na[\"ocean_proximity\"].value_counts()\n",
        "# 1,2,3,4,5"
      ],
      "metadata": {
        "id": "HZjHmhpkMJjz"
      },
      "execution_count": null,
      "outputs": []
    },
    {
      "cell_type": "code",
      "source": [
        "#Dummies / One-Hot Encoding\n",
        "# NEAR BAY   INLAND   NEAR OCEAN\n",
        "#    1          0         0\n",
        "#    0          0         1\n",
        "\n",
        "dummies = pd.get_dummies(datos_na[\"ocean_proximity\"], dtype=int)"
      ],
      "metadata": {
        "id": "nwiCzSAFMamW"
      },
      "execution_count": 21,
      "outputs": []
    },
    {
      "cell_type": "code",
      "source": [
        "datos_na = datos_na.join(dummies)"
      ],
      "metadata": {
        "id": "Ul-kbjdGM3A9"
      },
      "execution_count": 22,
      "outputs": []
    },
    {
      "cell_type": "code",
      "source": [
        "datos_na.head()"
      ],
      "metadata": {
        "id": "s8Gu-RlwNQSa"
      },
      "execution_count": null,
      "outputs": []
    },
    {
      "cell_type": "code",
      "source": [
        "datos_na = datos_na.drop([\"ocean_proximity\"], axis=1)"
      ],
      "metadata": {
        "id": "Eop7y_TENUS3"
      },
      "execution_count": 24,
      "outputs": []
    },
    {
      "cell_type": "code",
      "source": [
        "datos_na.head()"
      ],
      "metadata": {
        "id": "hr7hySkXNhZa"
      },
      "execution_count": null,
      "outputs": []
    },
    {
      "cell_type": "code",
      "source": [
        "#Analisis, nuevas caracteristicas"
      ],
      "metadata": {
        "id": "7FrnamobNmsl"
      },
      "execution_count": null,
      "outputs": []
    },
    {
      "cell_type": "code",
      "source": [
        "\n",
        "datos_na.corr()"
      ],
      "metadata": {
        "id": "zjrB0rjYNqlS"
      },
      "execution_count": null,
      "outputs": []
    },
    {
      "cell_type": "code",
      "source": [
        "#Mostramos correlacion de valores y relaciones.\n",
        "\n",
        "sb.set(rc={'figure.figsize': (15,8)})   #Especifico el tamaño de los cuadros. Se puede cambiar de acuerdo al monitor\n",
        "sb.heatmap(datos_na.corr(), annot=True, cmap=\"YlGnBu\")"
      ],
      "metadata": {
        "id": "D_075KTPNxej"
      },
      "execution_count": null,
      "outputs": []
    },
    {
      "cell_type": "code",
      "source": [
        "#Listamos correlacion referida al valor medio de las casas.\n",
        "#Con esto podemos determinar que hay una relacion fuerte entre el costo de la casa\n",
        "#y el ingreso promedio.\n",
        "\n",
        "datos_na.corr()[[\"median_house_value\"]].sort_values(by=\"median_house_value\", ascending=False)"
      ],
      "metadata": {
        "id": "0KU-Id5xPcrb"
      },
      "execution_count": null,
      "outputs": []
    },
    {
      "cell_type": "code",
      "source": [
        "# Graficamos la relacion y podemos ver que hay una relacion bastante lineal.\n",
        "# podriamos utilizar un modelo de regresion lineal.\n",
        "\n",
        "sb.scatterplot(x=datos_na[\"median_house_value\"], y=datos_na[\"median_income\"])"
      ],
      "metadata": {
        "id": "SWlAhAUvMMj7"
      },
      "execution_count": null,
      "outputs": []
    },
    {
      "cell_type": "code",
      "source": [
        "#Creamos una nueva caracteristica que sea habitaciones para dormir dividido total de habitaciones\n",
        "datos_na[\"bedroom_ratio\"] = datos_na[\"total_bedrooms\"] / datos_na[\"total_rooms\"]"
      ],
      "metadata": {
        "id": "fXRWSH7AM5lg"
      },
      "execution_count": 34,
      "outputs": []
    },
    {
      "cell_type": "code",
      "source": [
        "#Vemos que la nueva caracteristica tiene una relacion mas fuerte que las 2 por su parte.\n",
        "#Es decir que la casa vale mas si tiene mas habitaciones que no sean para dormir\n",
        "\n",
        "sb.set(rc={'figure.figsize': (15,8)})\n",
        "sb.heatmap(datos_na.corr(), annot=True, cmap=\"YlGnBu\")"
      ],
      "metadata": {
        "id": "cmjCBrm0NHQj"
      },
      "execution_count": null,
      "outputs": []
    },
    {
      "cell_type": "code",
      "source": [
        "#Separar las caracteristicas de la etiqueta\n",
        "X = datos_na.drop([\"median_house_value\"], axis=1)\n",
        "y = datos_na[\"median_house_value\"]"
      ],
      "metadata": {
        "id": "xS5ANcZjNdX3"
      },
      "execution_count": 36,
      "outputs": []
    },
    {
      "cell_type": "code",
      "source": [
        "#Separar los datos en 2 partes: Conjunto de entrenamiento y uno de pruebas\n",
        "from sklearn.model_selection import train_test_split\n",
        "\n",
        "X_ent, X_pru, y_ent, y_pru = train_test_split(X, y, test_size=.2)"
      ],
      "metadata": {
        "id": "hn3z8_X9Ozsp"
      },
      "execution_count": 37,
      "outputs": []
    },
    {
      "cell_type": "code",
      "source": [
        "from sklearn.linear_model import LinearRegression\n",
        "\n",
        "modelo=LinearRegression()"
      ],
      "metadata": {
        "id": "hFRZKJJaO3aW"
      },
      "execution_count": 38,
      "outputs": []
    },
    {
      "cell_type": "code",
      "source": [
        "modelo.fit(X_ent, y_ent)"
      ],
      "metadata": {
        "id": "NjhwbYPlPHSC"
      },
      "execution_count": null,
      "outputs": []
    },
    {
      "cell_type": "code",
      "source": [
        "predicciones = modelo.predict(X_pru)"
      ],
      "metadata": {
        "id": "P5g_5ZnvPP4Q"
      },
      "execution_count": 40,
      "outputs": []
    },
    {
      "cell_type": "code",
      "source": [
        "comparativa = {\"Prediccion\": predicciones, \"Valor Real\": y_pru}\n",
        "pd.DataFrame(comparativa)"
      ],
      "metadata": {
        "id": "7W9_Qv09PXY3"
      },
      "execution_count": null,
      "outputs": []
    },
    {
      "source": [
        "from matplotlib import pyplot as plt\n",
        "_df_2.plot(kind='scatter', x='Prediccion', y='Valor Real', s=32, alpha=.8)\n",
        "plt.gca().spines[['top', 'right',]].set_visible(False)"
      ],
      "cell_type": "code",
      "metadata": {
        "id": "kuooTt241OVB"
      },
      "execution_count": null,
      "outputs": []
    },
    {
      "cell_type": "code",
      "source": [
        "#Overfitting sobreajuste\n",
        "print(modelo.score(X_ent, y_ent))\n",
        "print(modelo.score(X_pru, y_pru))"
      ],
      "metadata": {
        "id": "t8ZaZt18QCWh"
      },
      "execution_count": null,
      "outputs": []
    },
    {
      "cell_type": "code",
      "source": [
        "#Error\n",
        "#Tomo los datos, saca la diferencia y la eleva al cuadrado\n",
        "from sklearn.metrics import mean_squared_error\n",
        "import numpy as np\n",
        "\n",
        "mse = mean_squared_error(y_pru, predicciones)"
      ],
      "metadata": {
        "id": "TYmHhcUOQc2d"
      },
      "execution_count": 46,
      "outputs": []
    },
    {
      "cell_type": "code",
      "source": [
        "mse"
      ],
      "metadata": {
        "id": "_tFrIxIcQyQJ"
      },
      "execution_count": null,
      "outputs": []
    },
    {
      "cell_type": "code",
      "source": [
        "#Obtengo la raiz cuadrada de MSE para visualizar el error en escala real\n",
        "\n",
        "rmse = np.sqrt(mse)"
      ],
      "metadata": {
        "id": "LBiQCmWyQ_dH"
      },
      "execution_count": 48,
      "outputs": []
    },
    {
      "cell_type": "code",
      "source": [
        "rmse"
      ],
      "metadata": {
        "id": "GVgqs2ySREgh"
      },
      "execution_count": null,
      "outputs": []
    }
  ]
}